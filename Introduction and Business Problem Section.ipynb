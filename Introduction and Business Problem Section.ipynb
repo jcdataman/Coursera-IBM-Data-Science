{
    "nbformat_minor": 1, 
    "cells": [
        {
            "source": "# Battle of the Neighborhoods Project: \n## Figuring Out Where to Open a New Bar In Order To Replicate the Success of an Existing Bar in a Toronto Neighborhood", 
            "cell_type": "markdown", 
            "metadata": {
                "collapsed": true
            }
        }, 
        {
            "source": "## Introduction / Business Problem\n\nA group of entrepreneurial bar owners have been managing a successful establishment in Kensinton Market, which is a neighborhood in downtown Toronto.  \n\nThey have worked together to outline a business plan detailing their ambition to grow the business.  \n\nThey are planning to open another location in Toronto, as well as a new location in Manhattan, where one of the co-owners has family and friends that he would like to see more often.  \n\nAlthough the business owners have reserved a fair amount of capital from the revenue of their current business, they will need a business loan from the bank to fuel the expansion into the new locations.\n\nDuring a meeting with the bank's loan manager, the owners were asked to update their business plan to include a section outlining how they are going to go about selecting the neighborhoods for their two new locations.\n\nIn order to complete their business growth plan, satisfy the requirement of the lender, and to increase their chances of achieving continued business success, they have engaged the services of a data scientist.  \n\nOne of the owners has a cousin who is a reputable data scientist consultant that provides services to a variety of clients.  \n\nThe owners discuss the business problem with the data scientist, and a contract is written up to describe the services.  The data scientist will evaluate the characteristics of the current neighborhood, using available data on the most popular venues in the area, and he will identify similar neighborhoods in Toronto and Manhattan.  He will narrow down the search to neighborhoods where bars are among the most popular venues, indicating a culture of social drinking, while being careful to avoid recommending neighborhoods that have too few bars or too many bars.", 
            "cell_type": "markdown", 
            "metadata": {}
        }, 
        {
            "source": "", 
            "cell_type": "code", 
            "metadata": {}, 
            "outputs": [], 
            "execution_count": null
        }
    ], 
    "metadata": {
        "kernelspec": {
            "display_name": "Python 3.5", 
            "name": "python3", 
            "language": "python"
        }, 
        "language_info": {
            "mimetype": "text/x-python", 
            "nbconvert_exporter": "python", 
            "version": "3.5.5", 
            "name": "python", 
            "file_extension": ".py", 
            "pygments_lexer": "ipython3", 
            "codemirror_mode": {
                "version": 3, 
                "name": "ipython"
            }
        }
    }, 
    "nbformat": 4
}